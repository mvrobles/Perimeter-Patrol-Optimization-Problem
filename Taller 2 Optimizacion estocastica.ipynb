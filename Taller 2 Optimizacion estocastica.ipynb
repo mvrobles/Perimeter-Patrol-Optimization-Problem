{
 "cells": [
  {
   "cell_type": "markdown",
   "metadata": {},
   "source": [
    "# Introducción al problema\n",
    "\n",
    "Se considera un objeto volador que se mueve en una retícula $200 \\times 200$ bajo la influencia del viento. El problema consiste en llegar a la región $[155,157]\\times[155,157]$ en el menor tiempo posible. Por lo tanto, definimos los estados posibles como puntos en la retícula:\n",
    " $$S = \\{(a,b): 0 \\leq a,b \\leq 199 \\}$$\n",
    " Y por cada estado, se consideran $4$ acciones posibles: moverse hacia arriba \\textit{u}, hacia abajo \\textit{d}, hacia la izquierda \\textit{l} o a la derecha \\textit{r}. Por lo tanto, para todo $s \\in S$, \n",
    "    $$A(s) = \\{\\textit{u},\\textit{d},\\textit{l},\\textit{r}\\}$$\n",
    " Las probabilidades de transición para los puntos en el interior de la retícula, es decir estados $s = (a,b)$ para $1 < a,b < 198$, están dadas por: \n",
    "\n",
    " \\begin{align}\n",
    "         Q( (a',b') \\hspace{0.1cm} \\vert \\hspace{0.1cm}  s, \\textit{u} ) &= \\left\\{ \\begin{array}{lcc}\n",
    "                0.3 \\hspace{0.2cm} \\text{ si }  a' = a, b' = b + 1\n",
    "             \\\\  0.4 \\hspace{0.2cm} \\text{ si }  a' = a, b' = b + 2\n",
    "             \\\\  0.2  \\hspace{0.2cm} \\text{ si }  a' = a - 1, b' = b + 2\n",
    "             \\\\  0.1  \\hspace{0.2cm} \\text{ si } a' = a - 1, b' = b + 1\n",
    "             \\end{array}\\right.\\\\\n",
    "          Q( (a',b') \\hspace{0.1cm} \\vert \\hspace{0.1cm}  s, \\textit{d} ) &= \\left\\{ \\begin{array}{lcc}\n",
    "             0.3 \\hspace{0.2cm} \\text{ si } a' = a, b' = b \n",
    "             \\\\ 0.3 \\hspace{0.2cm} \\text{ si }a' = a, b' = b - 1\n",
    "             \\\\ 0.2 \\hspace{0.2cm} \\text{ si } a' = a - 1, b' = b \n",
    "             \\\\ 0.2 \\hspace{0.2cm} \\text{ si } a' = a - 1, b' = b - 1\n",
    "             \\end{array}\\right.\\\\\n",
    "        Q( (a',b') \\hspace{0.1cm} \\vert \\hspace{0.1cm} s, \\textit{l} ) &= \\left\\{ \\begin{array}{lcc}\n",
    "             0.3 \\hspace{0.2cm} \\text{ si }  a' = a-1, b' = b + 1\n",
    "             \\\\ 0.2 \\hspace{0.2cm} \\text{ si }a' = a-1, b' = b \n",
    "             \\\\ 0.3 \\hspace{0.2cm} \\text{ si } a' = a - 2, b' = b \n",
    "             \\\\ 0.2 \\hspace{0.2cm} \\text{ si } a' = a - 2, b' = b + 1\n",
    "             \\end{array}\\right.\\\\\n",
    "          Q( (a',b') \\hspace{0.1cm} \\vert \\hspace{0.1cm}  s, \\textit{r} ) &= \\left\\{ \\begin{array}{lcc}\n",
    "             0.3 \\hspace{0.2cm} \\text{ si }  a' = a+1, b' = b \n",
    "             \\\\ 0.4 \\hspace{0.2cm} \\text{ si } a' = a+1, b' = b +1\n",
    "             \\\\ 0.2 \\hspace{0.2cm} \\text{ si } a' = a, b' = b \n",
    "             \\\\ 0.1 \\hspace{0.2cm} \\text{ si } a' = a, b' = b + 1\n",
    "             \\end{array}\\right.\n",
    "  \\end{align}"
   ]
  },
  {
   "cell_type": "code",
   "execution_count": 1,
   "metadata": {},
   "outputs": [],
   "source": [
    "import numpy as np\n",
    "import scipy.sparse\n",
    "import scipy.sparse.linalg\n",
    "from scipy.sparse import csr_matrix, lil_matrix\n",
    "\n",
    "import matplotlib.pyplot as plt\n",
    "\n",
    "from scipy.optimize import linprog\n",
    "\n",
    "from numpy import array\n",
    "from numpy.linalg import norm\n",
    "\n",
    "from timeit import default_timer as timer\n"
   ]
  },
  {
   "cell_type": "markdown",
   "metadata": {},
   "source": [
    "Inicialmente definimos una matriz 200x200x3.Esta matriz guardará en la posición (i,j,X) la recompensa r((i,j),X).\n"
   ]
  },
  {
   "cell_type": "code",
   "execution_count": 2,
   "metadata": {},
   "outputs": [],
   "source": [
    "recompensas = np.zeros((200,200,4))"
   ]
  },
  {
   "cell_type": "markdown",
   "metadata": {},
   "source": [
    "Para llenar la matriz, se deben considerar todos los casos que se revisaron en el documento."
   ]
  },
  {
   "cell_type": "code",
   "execution_count": 3,
   "metadata": {},
   "outputs": [],
   "source": [
    "#Dado un estado (x,y) la función retorna su distancia mínima \n",
    "# al cuadrado objetivo.\n",
    "def minDistanciaAObjetivo(x,y):\n",
    "    dis = 300\n",
    "    for i in range(155,158):\n",
    "        for j in range(155, 158):\n",
    "            n1 = norm( array([x,y]) - array([i,j]) )\n",
    "            if( n1 < dis ):\n",
    "                dis = n1\n",
    "    return dis"
   ]
  },
  {
   "cell_type": "code",
   "execution_count": 4,
   "metadata": {},
   "outputs": [],
   "source": [
    "def recU(a,b):\n",
    "    dist= minDistanciaAObjetivo(a,b)\n",
    "    rta = -500\n",
    "    \n",
    "    #Tengo seis casos posibles: \n",
    "    if( a == 0 and b == 199 ):\n",
    "        rta = -dist\n",
    "    elif ( a == 0 and b == 198 ):\n",
    "        rta = -minDistanciaAObjetivo(a,b+1)\n",
    "    elif ( a == 0 and b < 198 ):\n",
    "        if a <= 99 and b <= 69 and b >= 49:\n",
    "            rta = -500\n",
    "        else:\n",
    "            rta = -(0.4*minDistanciaAObjetivo(a,b+1) + 0.6*minDistanciaAObjetivo(a,b+2))\n",
    "    elif ( a > 0 and b == 199 ):\n",
    "        rta = -(0.3*minDistanciaAObjetivo(a-1,b) + 0.7*dist)\n",
    "    elif( a > 0 and b == 198 ):\n",
    "        rta = -(0.3*minDistanciaAObjetivo(a-1,b+1) + 0.7*minDistanciaAObjetivo(a,b+1))\n",
    "    else:\n",
    "        if a <= 99 and b <= 69 and b >= 49:            \n",
    "            rta = -500\n",
    "        else:\n",
    "            rta = -(0.3*minDistanciaAObjetivo(a,b+1) + 0.4*minDistanciaAObjetivo(a,b+2) + \n",
    "                0.2*minDistanciaAObjetivo(a-1,b+2) + 0.1*minDistanciaAObjetivo(a-1,b+1))\n",
    "    return rta\n",
    "    "
   ]
  },
  {
   "cell_type": "code",
   "execution_count": 5,
   "metadata": {},
   "outputs": [],
   "source": [
    "def recD(a,b):\n",
    "    dist= minDistanciaAObjetivo(a,b)\n",
    "    rta = -500\n",
    "    #Tengo cuatro casos posibles:\n",
    "    if( a == 0 and b == 0 ):\n",
    "        rta = -dist\n",
    "    elif( a == 0 and b > 0 ):\n",
    "        if a <= 99 and b <= 69 and b >= 49:\n",
    "            rta = -500\n",
    "        else:\n",
    "            rta = -( 0.5*dist +  0.5* minDistanciaAObjetivo(a,b-1) )\n",
    "    elif( a > 0 and b == 0 ):\n",
    "        rta = -( 0.6*dist +  0.4*minDistanciaAObjetivo(a-1,b) )\n",
    "    else:\n",
    "        if a <= 99 and b <= 69 and b >= 49:\n",
    "            rta = -500\n",
    "        else:\n",
    "            rta = -( 0.3*dist + 0.3*minDistanciaAObjetivo(a,b-1) + \n",
    "                0.2*minDistanciaAObjetivo(a-1,b) + 0.2*minDistanciaAObjetivo(a-1,b-1))\n",
    "    return rta"
   ]
  },
  {
   "cell_type": "code",
   "execution_count": 6,
   "metadata": {},
   "outputs": [],
   "source": [
    "def recL(a,b):\n",
    "    dist= minDistanciaAObjetivo(a,b)\n",
    "    rta = -500\n",
    "    #Tengo seis casos posibles:\n",
    "    if( a == 0 and b == 199 ):\n",
    "        rta = -dist \n",
    "    elif( a == 1 and b == 199 ):\n",
    "        rta = -minDistanciaAObjetivo(a-1,b)\n",
    "    elif( a > 1 and b == 199 ):\n",
    "        rta = -( 0.5*minDistanciaAObjetivo(a-1,b) + 0.5*minDistanciaAObjetivo(a-2,b) )\n",
    "    elif( a == 0 and b < 199 ):\n",
    "        if a <= 99 and b <= 69 and b >= 49:\n",
    "            rta = -500\n",
    "        else:\n",
    "            rta = -( 0.5*dist + 0.5*minDistanciaAObjetivo(a,b+1) )\n",
    "    elif( a == 1 and b < 199 ):\n",
    "        if a <= 99 and b <= 69 and b >= 49:\n",
    "            rta = -500\n",
    "        else:\n",
    "            rta = -( 0.5*minDistanciaAObjetivo(a-1,b) + 0.5*minDistanciaAObjetivo(a-1,b+1) )\n",
    "    else:\n",
    "        if a <= 99 and b <= 69 and b >= 49:\n",
    "            rta = -500\n",
    "        else:\n",
    "            rta = -( 0.3*minDistanciaAObjetivo(a-1,b+1) + 0.3*minDistanciaAObjetivo(a-2,b) +\n",
    "                0.2*minDistanciaAObjetivo(a-1,b) + 0.2*minDistanciaAObjetivo(a-2,b+1))\n",
    "    return rta"
   ]
  },
  {
   "cell_type": "code",
   "execution_count": 7,
   "metadata": {},
   "outputs": [],
   "source": [
    "def recR(a,b):\n",
    "    dist= minDistanciaAObjetivo(a,b)\n",
    "    rta = -500\n",
    "    #Tengo cuatro casos posibles:\n",
    "    if( a == 199 and b == 199 ):\n",
    "        rta = -dist\n",
    "    elif( a < 199 and b == 199 ):\n",
    "        rta = -( 0.3*dist + 0.7*minDistanciaAObjetivo(a+1,b)  ) \n",
    "    elif( a == 199 and b < 199 ):\n",
    "        rta = -( 0.5*dist + 0.5*minDistanciaAObjetivo(a,b+1)  )\n",
    "    else:\n",
    "        if a <= 99 and b <= 69 and b >= 49:\n",
    "            rta = -500\n",
    "        else:\n",
    "            rta = -( 0.3*minDistanciaAObjetivo(a+1,b) + 0.4*minDistanciaAObjetivo(a+1,b+1) +\n",
    "                0.2*dist + 0.1*minDistanciaAObjetivo(a,b+1))\n",
    "    return rta"
   ]
  },
  {
   "cell_type": "markdown",
   "metadata": {},
   "source": [
    "### Llenamos la matriz de recompensas."
   ]
  },
  {
   "cell_type": "code",
   "execution_count": 8,
   "metadata": {},
   "outputs": [],
   "source": [
    "#Itero sobre toda la matriz\n",
    "for a in range(0,200):\n",
    "    for b in range(0,200):\n",
    "        #Para cada entrada de la matriz calculo las posibles recompensas\n",
    "                \n",
    "        #Primero considero la acción u.\n",
    "        recompensas[a,b,0] = recU(a,b)\n",
    "\n",
    "        #Ahora considero la acción d. \n",
    "        recompensas[a,b,1] = recD(a,b)\n",
    "\n",
    "        #Ahora considero la acción l.\n",
    "        recompensas[a,b,2] = recL(a,b)\n",
    "\n",
    "        #Ahora considero la acción r.\n",
    "        recompensas[a,b,3] = recR(a,b)"
   ]
  },
  {
   "cell_type": "markdown",
   "metadata": {},
   "source": [
    "## Método para calcular $I - \\lambda P_{d_n}$ y $r_{d_n}$\n",
    "Este método calcula $I - \\lambda P_{d_n}$ a partir de un arreglo $d_n$ de acciones.\n",
    "\n",
    "Para esto utilizamos las estructuras de datos lil_matrix, pues $P_{d_n}$ será una matriz dispersa y tenemos que hacer muchas modificaciones. Ya cuando hagamos operaciones sobre esta, la convertiremos en una csr_matrix, pues es mucho más eficiente para hacer operaciones como calcular inversas o multiplicar."
   ]
  },
  {
   "cell_type": "code",
   "execution_count": 9,
   "metadata": {},
   "outputs": [],
   "source": [
    "def calculo_Pdn_y_rdn (dn, lamb):\n",
    "    #Matrix a retornar. La inicializamos como la matriz identidad\n",
    "    identidad = scipy.sparse.identity(40000)\n",
    "    P_dn = lil_matrix(identidad)\n",
    "    #Inicializamos r_dn como un arreglo de 0's.\n",
    "    r_dn = np.zeros(40000)\n",
    "    #Iteramos sobre todos los estados posibles para llenar por columnas la matriz\n",
    "    #En P_dn vamos a guardar realmente I - lambda P_dn\n",
    "    for i in range(0,200):\n",
    "        for j in range (0,200):        \n",
    "            accion = dn[i*200+j] \n",
    "            index = i*200+j\n",
    "            \n",
    "            #Para r_dn:\n",
    "            r_dn[index] = recompensas[i,j,int(accion)]\n",
    "            \n",
    "            #Para P_dn:\n",
    "            \n",
    "            #Si la acción es up                 \n",
    "            if( accion == 0 ):\n",
    "                if ( i == 0 and j < 198 ):\n",
    "                    P_dn[index,i*200+(j+1)] = - lamb*0.4\n",
    "                    P_dn[index,i*200+(j+2)] = - lamb*0.6  \n",
    "                elif ( i > 0 and j == 199 ):\n",
    "                    P_dn[index,(i-1)*200+j] = - lamb*0.3\n",
    "                    #Está en la diagonal\n",
    "                    P_dn[index,index] = 1- lamb*0.7\n",
    "                elif( i > 0 and j == 198 ):\n",
    "                    P_dn[index,(i-1)*200+(j+1)] = - lamb*0.3\n",
    "                    P_dn[index,i*200+(j+1)] = - lamb*0.7\n",
    "                elif( i == 0 and i == 199 ):\n",
    "                    #Está en la diagonal\n",
    "                    P_dn[index,index] = 1 - lamb \n",
    "                elif ( i == 0 and j == 198 ):\n",
    "                    P_dn[index,i*200+(j+1)] = - lamb\n",
    "                else:\n",
    "                    P_dn[index,i*200+(j+1)] = - lamb*0.3\n",
    "                    P_dn[index,i*200+(j+2)] = - lamb*0.4\n",
    "                    P_dn[index,(i-1)*200+(j+2)] = - lamb*0.2\n",
    "                    P_dn[index,(i-1)*200+(j+1)] = - lamb*0.1\n",
    "                    \n",
    "            #Si la acción es down        \n",
    "            elif( accion == 1 ):\n",
    "                if( i == 0 and j > 0 ):\n",
    "                    #Diagonal\n",
    "                    P_dn[index,index] = 1- lamb*0.5\n",
    "                    P_dn[index,i*200+(j-1)] = - lamb*0.5\n",
    "                elif( i > 0 and j == 0 ):\n",
    "                    #Diagonal\n",
    "                    P_dn[index,index] = 1- lamb*0.6\n",
    "                    P_dn[index,(i-1)*200+j] = - lamb*0.4\n",
    "                elif( i == 0 and j == 0 ):\n",
    "                    #Diagonal\n",
    "                    P_dn[index,index] = 1 - lamb  \n",
    "                else:\n",
    "                    #Diagonal\n",
    "                    P_dn[index,index] = 1- lamb*0.3\n",
    "                    P_dn[index,i*200+(j-1)] = - lamb*0.3\n",
    "                    P_dn[index,(i-1)*200+j] = - lamb*0.2\n",
    "                    P_dn[index,(i-1)*200+(j-1)] = - lamb*0.2   \n",
    "                    \n",
    "            #Si la acción es left        \n",
    "            elif( accion == 2 ):\n",
    "                if ( i > 1 and j == 199 ):\n",
    "                    P_dn[index,(i-1)*200+j] = - lamb*0.5\n",
    "                    P_dn[index,(i-2)*200+j] = - lamb*0.5\n",
    "                elif( i == 0 and j < 199 ):\n",
    "                    #Diagonal\n",
    "                    P_dn[index,index] = 1 - lamb*0.5\n",
    "                    P_dn[index,i*200+(j+1)] = - lamb*0.5\n",
    "                elif( i == 1 and j < 199 ):\n",
    "                    P_dn[index,(i-1)*200+j] = - lamb*0.5\n",
    "                    P_dn[index,(i-1)*200+(j+1)] = - lamb*0.5\n",
    "                elif( i == 0 and j == 199 ):\n",
    "                    #Diagonal\n",
    "                    P_dn[index,index] = 1 - lamb  \n",
    "                elif( i == 1 and j == 199 ):\n",
    "                    P_dn[index,(i-1)*200+j] = - lamb \n",
    "                else:\n",
    "                    P_dn[index,(i-1)*200+(j+1)] = - lamb*0.3\n",
    "                    P_dn[index,(i-2)*200+j] = - lamb*0.3\n",
    "                    P_dn[index,(i-1)*200+j] = - lamb*0.2\n",
    "                    P_dn[index,(i-2)*200+(j+1)] = - lamb*0.2\n",
    "                \n",
    "            #Si la acción es right.    \n",
    "            elif( accion == 3 ):\n",
    "                if( i < 199 and j == 199 ):\n",
    "                    #Diagonal\n",
    "                    P_dn[index,index] = 1- lamb*0.3\n",
    "                    P_dn[index,(i+1)*200+j] = - lamb*0.7\n",
    "                elif( i == 199 and j < 199 ):\n",
    "                    #Diagonal\n",
    "                    P_dn[index,index] = 1- lamb*0.5\n",
    "                    P_dn[index,i*200+(j+1)] = - lamb*0.5\n",
    "                elif( i == 199 and j == 199 ):\n",
    "                    #Diagonal\n",
    "                    P_dn[index,index] = 1- lamb \n",
    "                else:\n",
    "                    P_dn[index,(i+1)*200+j] = - lamb*0.3\n",
    "                    P_dn[index,(i+1)*200+(j+1)] = - lamb*0.4\n",
    "                    #Diagonal\n",
    "                    P_dn[index,index] = 1 - lamb*0.2\n",
    "                    P_dn[index,i*200+(j+1)] = - lamb*0.1\n",
    "    return (P_dn,r_dn)"
   ]
  },
  {
   "cell_type": "markdown",
   "metadata": {},
   "source": [
    "## Cálculo de $\\lambda P_a$ por filas\n",
    "\n",
    "Dado un estado $s=(i,j)$ y una acción $a$, calcula un arreglo de tamaño $|S|$ de probabilidades. "
   ]
  },
  {
   "cell_type": "code",
   "execution_count": 10,
   "metadata": {},
   "outputs": [],
   "source": [
    "def Psa (i,j,a, lamb):\n",
    "    parreglo = np.zeros(40000)\n",
    "    index = i*200+j\n",
    "    \n",
    "    #Si la acción es up                 \n",
    "    if( a == 0 ):\n",
    "        if ( i == 0 and j < 198 ):\n",
    "            parreglo[i*200+(j+1)] = lamb*0.4\n",
    "            parreglo[i*200+(j+2)] = lamb*0.6  \n",
    "        elif ( i > 0 and j == 199 ):\n",
    "            parreglo[(i-1)*200+j] = lamb*0.3\n",
    "            #Está en la diagonal\n",
    "            parreglo[index] = lamb*0.7\n",
    "        elif( i > 0 and j == 198 ):\n",
    "            parreglo[(i-1)*200+(j+1)] = lamb*0.3\n",
    "            parreglo[i*200+(j+1)] = lamb*0.7\n",
    "        elif( i == 0 and i == 199 ):\n",
    "            #Está en la diagonal\n",
    "            parreglo[index] = lamb*1  \n",
    "        elif ( i == 0 and j == 198 ):\n",
    "            parreglo[i*200+(j+1)] = lamb*1\n",
    "        else:\n",
    "            parreglo[i*200+(j+1)] = lamb*0.3\n",
    "            parreglo[i*200+(j+2)] = lamb*0.4\n",
    "            parreglo[(i-1)*200+(j+2)] = lamb*0.2\n",
    "            parreglo[(i-1)*200+(j+1)] = lamb*0.1\n",
    "\n",
    "    #Si la acción es down        \n",
    "    elif( a == 1 ):\n",
    "        if( i == 0 and j > 0 ):\n",
    "            #Diagonal\n",
    "            parreglo[index] = lamb*0.5\n",
    "            parreglo[i*200+(j-1)] = lamb*0.5\n",
    "        elif( i > 0 and j == 0 ):\n",
    "            #Diagonal\n",
    "            parreglo[index] = lamb*0.6\n",
    "            parreglo[(i-1)*200+j] = lamb*0.4\n",
    "        elif( i == 0 and j == 0 ):\n",
    "            #Diagonal\n",
    "            parreglo[index] = lamb*1   \n",
    "        else:\n",
    "            #Diagonal\n",
    "            parreglo[index] = lamb*0.3\n",
    "            parreglo[i*200+(j-1)] = lamb*0.3\n",
    "            parreglo[(i-1)*200+j] = lamb*0.2\n",
    "            parreglo[(i-1)*200+(j-1)] = lamb*0.2   \n",
    "\n",
    "    #Si la acción es left        \n",
    "    elif( a == 2 ):\n",
    "        if ( i > 1 and j == 199 ):\n",
    "            parreglo[(i-1)*200+j] = lamb*0.5\n",
    "            parreglo[(i-2)*200+j] = lamb*0.5\n",
    "        elif( i == 0 and j < 199 ):\n",
    "            #Diagonal\n",
    "            parreglo[index] = lamb*0.5\n",
    "            parreglo[i*200+(j+1)] = lamb*0.5\n",
    "        elif( i == 1 and j < 199 ):\n",
    "            parreglo[(i-1)*200+j] = lamb*0.5\n",
    "            parreglo[(i-1)*200+(j+1)] = lamb*0.5\n",
    "        elif( i == 0 and j == 199 ):\n",
    "            #Diagonal\n",
    "            parreglo[index] = lamb*1 \n",
    "        elif( i == 1 and j == 199 ):\n",
    "            parreglo[(i-1)*200+j] = lamb*1\n",
    "        else:\n",
    "            parreglo[(i-1)*200+(j+1)] = lamb*0.3\n",
    "            parreglo[(i-2)*200+j] = lamb*0.3\n",
    "            parreglo[(i-1)*200+j] = lamb*0.2\n",
    "            parreglo[(i-2)*200+(j+1)] = lamb*0.2\n",
    "\n",
    "    #Si la acción es right.    \n",
    "    elif( a == 3 ):\n",
    "        if( i < 199 and j == 199 ):\n",
    "            #Diagonal\n",
    "            parreglo[index] = lamb*0.3\n",
    "            parreglo[(i+1)*200+j] = lamb*0.7\n",
    "        elif( i == 199 and j < 199 ):\n",
    "            #Diagonal\n",
    "            parreglo[index] = lamb*0.5\n",
    "            parreglo[i*200+(j+1)] = lamb*0.5\n",
    "        elif( i == 199 and j == 199 ):\n",
    "            #Diagonal\n",
    "            parreglo[index] = lamb*1\n",
    "        else:\n",
    "            parreglo[(i+1)*200+j] = lamb*0.3\n",
    "            parreglo[(i+1)*200+(j+1)] = lamb*0.4\n",
    "            #Diagonal\n",
    "            parreglo[index] = lamb*0.2\n",
    "            parreglo[i*200+(j+1)] = lamb*0.1\n",
    "            \n",
    "    return parreglo"
   ]
  },
  {
   "cell_type": "markdown",
   "metadata": {},
   "source": [
    "# Ciclo principal\n",
    "Inicializamos $n = 0$, $d$ como la política que siempre va hacia arriba $\\textit{u}$. \n",
    "Para guardar las políticas $d_n$ como arreglos de tamaño $200 \\cdot 200 = 40000$, es necesario saber a cuál estado corresponde cada entrada. Por lo tanto tenemos esta función:\n",
    "$$d[k] = \\text{ acción para el estado } \\left( \\left\\lfloor \\frac{k}{200} \\right\\rfloor , k-\\left\\lfloor \\frac{k}{200} \\right\\rfloor \\cdot 200  \\right) $$\n",
    "\n",
    "Y, por lo tanto, dado un estado $s=(i,j)$, la acción a tomar bajo $d_n$ sería:\n",
    "$$d[i\\cdot 200 + j]$$"
   ]
  },
  {
   "cell_type": "code",
   "execution_count": 92,
   "metadata": {},
   "outputs": [
    {
     "name": "stdout",
     "output_type": "stream",
     "text": [
      "1\n",
      "2\n",
      "3\n",
      "4\n",
      "5\n",
      "6\n",
      "7\n",
      "8\n",
      "9\n",
      "10\n",
      "11\n",
      "12\n",
      "13\n",
      "14\n",
      "15\n",
      "16\n",
      "17\n",
      "18\n",
      "19\n",
      "20\n",
      "21\n",
      "22\n",
      "23\n",
      "[3. 3. 3. ... 2. 2. 2.]\n",
      "212.59049689999983\n"
     ]
    }
   ],
   "source": [
    "from timeit import default_timer as timer\n",
    "\n",
    "start = timer()\n",
    "\n",
    "lamb = 0.99\n",
    "#Acá se guardará d_n\n",
    "d0 = np.zeros(40000)\n",
    "#Acá se guardará d_n+1\n",
    "dn = np.zeros(40000)\n",
    "#Condición de parada\n",
    "parar = False\n",
    "iteraciones = 1\n",
    "\n",
    "while( parar == False ):\n",
    "    print(iteraciones)\n",
    "    dn = np.zeros(40000)\n",
    "    #Calculamos qué es P_dn y r_dn \n",
    "    (P_dn,r_dn) = calculo_Pdn_y_rdn(d0,lamb)\n",
    "    #Pasamos P_dn a una matriz csr pues es más rápida para hacer cálculos.\n",
    "    P_dn = csr_matrix(P_dn)                            \n",
    "    #Quiero resolver el sistema de ecuacones (P_dn)v = r_dn.\n",
    "    v_n = scipy.sparse.linalg.spsolve(P_dn,r_dn)\n",
    "    \n",
    "    #Cálculo de d_n+1\n",
    "    #Iteramos sobre todos los estados posibles \n",
    "    for i in range(0,200):\n",
    "        for j in range(0,200):\n",
    "            val = np.zeros(4)\n",
    "            #Itero sobre las posibles acciones\n",
    "            for a in range(0,4):\n",
    "                val[a] = recompensas[i,j,a] + np.dot( Psa(i,j,a,lamb) , v_n )\n",
    "            valorMaximo = np.max(val)\n",
    "            if( val[ int(d0[i*200+j]) ] == valorMaximo ):\n",
    "                dn[i*200+j] = d0[i*200+j] \n",
    "            else:\n",
    "                dn[i*200+j] = np.argmax(val)\n",
    "    #Condición de parada:\n",
    "    parar = (dn==d0).all()\n",
    "    d0 = dn\n",
    "    iteraciones += 1\n",
    "    #Fin del ciclo.\n",
    "print(dn)           \n",
    "\n",
    "end = timer()\n",
    "print(end - start) \n"
   ]
  },
  {
   "cell_type": "markdown",
   "metadata": {},
   "source": [
    "### Paso mi arreglo de decisiones a una matriz"
   ]
  },
  {
   "cell_type": "code",
   "execution_count": 93,
   "metadata": {},
   "outputs": [],
   "source": [
    "decisiones = np.zeros((200,200))\n",
    "\n",
    "for i in range(0,200):\n",
    "    for j in range(0,200):           \n",
    "            decisiones[i,j] = dn[i*200+j]\n",
    "            "
   ]
  },
  {
   "cell_type": "code",
   "execution_count": 94,
   "metadata": {},
   "outputs": [],
   "source": [
    "def visualizarD ( dn ):\n",
    "    decisiones = np.zeros((200,200))\n",
    "\n",
    "    for i in range(0,200):\n",
    "        for j in range(0,200):           \n",
    "                decisiones[i,j] = dn[i*200+j]\n",
    "           \n",
    "    decisionesDerecho = np.zeros((200,200))\n",
    "\n",
    "    for i in range(0,200):\n",
    "        for j in range(0,200):           \n",
    "                decisionesDerecho[i,j] = decisiones[j,199-i]\n",
    "\n",
    "    #print(decisionesDerecho)\n",
    "    plt.imshow(decisionesDerecho, cmap='RdPu')\n",
    "    plt.gca().axes.get_yaxis().set_visible(False)\n",
    "    plt.colorbar(extend='both')\n",
    "    plt.clim(0, 3);\n",
    "\n",
    "    plt.show()"
   ]
  },
  {
   "cell_type": "code",
   "execution_count": 95,
   "metadata": {},
   "outputs": [
    {
     "name": "stdout",
     "output_type": "stream",
     "text": [
      "Lambda =  0.99\n"
     ]
    },
    {
     "data": {
      "image/png": "[encoded data removed]",
      "text/plain": [
       "<Figure size 432x288 with 2 Axes>"
      ]
     },
     "metadata": {
      "needs_background": "light"
     },
     "output_type": "display_data"
    }
   ],
   "source": [
    "print(\"Lambda = \", lamb)\n",
    "visualizarD(dn)"
   ]
  },
  {
   "cell_type": "code",
   "execution_count": 109,
   "metadata": {},
   "outputs": [
    {
     "data": {
      "image/png": "[encoded data removed]",
      "text/plain": [
       "<Figure size 432x288 with 1 Axes>"
      ]
     },
     "metadata": {
      "needs_background": "light"
     },
     "output_type": "display_data"
    }
   ],
   "source": [
    "def simulacion (pdecisiones, a, b, color):\n",
    "    recorrido = np.zeros((200,200))\n",
    "    recorrido[a,b] = color\n",
    "    act = a\n",
    "    bct = b\n",
    "    \n",
    "    for index in range(0,300):\n",
    "        \n",
    "        #La decisión es up\n",
    "        if pdecisiones[act,bct]==0:\n",
    "            #Tengo seis casos posibles: \n",
    "            \n",
    "            if ( act == 0 and bct < 198 ):\n",
    "                eleccion =  np.random.choice(np.arange(1, 3), p=[0.4, 0.6])\n",
    "                if eleccion == 1:\n",
    "                    bct = bct + 1\n",
    "                else:\n",
    "                    bct = bct + 2\n",
    "            elif ( act > 0 and bct == 199 ):\n",
    "                eleccion =  np.random.choice(np.arange(1, 3), p=[0.3, 0.7])\n",
    "                if eleccion == 1:\n",
    "                    act= act - 1\n",
    "            elif( act > 0 and bct == 198 ):\n",
    "                eleccion =  np.random.choice(np.arange(1, 3), p=[0.3, 0.7])\n",
    "                bct = bct + 1\n",
    "                if eleccion == 1:\n",
    "                    act = act - 1\n",
    "            elif( act == 0 and bct == 199 ):\n",
    "                act = act\n",
    "            elif ( act == 0 and bct == 198 ):\n",
    "                bct = bct + 1 \n",
    "            else:\n",
    "                eleccion =  np.random.choice(np.arange(1, 5), p=[0.3, 0.4, 0.2, 0.1])\n",
    "                bct = bct + 1\n",
    "                if eleccion == 2:\n",
    "                    bct = bct + 1\n",
    "                elif eleccion == 3:\n",
    "                    bct = bct + 1\n",
    "                    act = act - 1\n",
    "                elif eleccion == 4:\n",
    "                    act = act - 1\n",
    "                    \n",
    "        #Si la decisión es down \n",
    "        elif pdecisiones[act,bct]==1: \n",
    "            if( act == 0 and bct > 0 ):\n",
    "                eleccion =  np.random.choice(np.arange(1, 3), p=[0.5, 0.5])\n",
    "                if eleccion == 2:\n",
    "                    bct = bct -1\n",
    "            elif( act > 0 and bct == 0 ):\n",
    "                eleccion =  np.random.choice(np.arange(1, 3), p=[0.6, 0.4])\n",
    "                if eleccion == 2:\n",
    "                    act = act - 1\n",
    "            elif( act == 0 and bct == 0 ):\n",
    "                act = act\n",
    "            else:\n",
    "                eleccion =  np.random.choice(np.arange(1, 5), p=[0.3, 0.3, 0.2, 0.2])\n",
    "                if eleccion == 2:\n",
    "                    bct = bct - 1\n",
    "                elif eleccion == 3:\n",
    "                    act = act - 1\n",
    "                elif eleccion == 4:\n",
    "                    bct = bct - 1\n",
    "                    act = act - 1\n",
    "        \n",
    "        #La decisión es left\n",
    "        elif pdecisiones[act,bct]==2:\n",
    "            if( act == 0 and bct == 199 ):\n",
    "                act = act \n",
    "            elif( act == 1 and bct == 199 ):\n",
    "                act = act-1\n",
    "            elif( act > 1 and bct == 199 ):\n",
    "                eleccion =  np.random.choice(np.arange(1, 3), p=[0.5, 0.5])\n",
    "                act = act - 1\n",
    "                if eleccion == 2:\n",
    "                    act = act - 1\n",
    "            elif( act == 0 and bct < 199 ):\n",
    "                eleccion =  np.random.choice(np.arange(1, 3), p=[0.5, 0.5])\n",
    "                if eleccion == 2:\n",
    "                    bct = bct + 1\n",
    "            elif( act == 1 and bct < 199 ):\n",
    "                eleccion =  np.random.choice(np.arange(1, 3), p=[0.5, 0.5])\n",
    "                act = act - 1\n",
    "                if eleccion == 2:\n",
    "                    bct = bct + 1\n",
    "            else:\n",
    "                eleccion =  np.random.choice(np.arange(1, 5), p=[0.3,0.3,0.2,0.2])\n",
    "                act = act - 1\n",
    "                if eleccion == 1:\n",
    "                    bct = bct + 1\n",
    "                elif eleccion == 2:\n",
    "                    act = act - 1\n",
    "                elif eleccion == 4:\n",
    "                    act = act - 1\n",
    "                    bct = bct + 1\n",
    "                \n",
    "        #La decisión es right\n",
    "        elif pdecisiones[act,bct]==3:\n",
    "            if( act == 199 and bct == 199 ):\n",
    "                act = act\n",
    "            elif( act < 199 and bct == 199 ):\n",
    "                eleccion =  np.random.choice(np.arange(1, 3), p=[0.3, 0.7])\n",
    "                if eleccion == 2:\n",
    "                    act = act + 1\n",
    "            elif( act == 199 and bct < 199 ):\n",
    "                eleccion =  np.random.choice(np.arange(1, 3), p=[0.5, 0.5])\n",
    "                if eleccion == 2:\n",
    "                    bct = bct + 1\n",
    "            else:\n",
    "                eleccion =  np.random.choice(np.arange(1, 5), p=[0.3,0.3,0.2,0.2])\n",
    "                if eleccion == 1:\n",
    "                    act = act + 1\n",
    "                elif eleccion == 2:\n",
    "                    act = act + 1\n",
    "                    bct = bct + 1\n",
    "                elif eleccion == 4:\n",
    "                    bct = bct + 1\n",
    "                    \n",
    "        recorrido[act,bct] = color\n",
    "        \n",
    "    decisionesDerecho = np.zeros((200,200))\n",
    "\n",
    "    for i in range(0,200):\n",
    "        for j in range(0,200):           \n",
    "                decisionesDerecho[i,j] = recorrido[j,199-i]\n",
    "\n",
    "    return decisionesDerecho\n",
    "\n",
    "\n",
    "plt.imshow(simulacion(decisiones, 50, 25, i+1), cmap='Purples')\n",
    "\n",
    "plt.gca().axes.get_yaxis().set_visible(False)\n",
    "plt.show()\n",
    "\n"
   ]
  },
  {
   "cell_type": "code",
   "execution_count": 59,
   "metadata": {},
   "outputs": [
    {
     "data": {
      "image/png": "[encoded data removed]",
      "text/plain": [
       "<Figure size 432x288 with 1 Axes>"
      ]
     },
     "metadata": {
      "needs_background": "light"
     },
     "output_type": "display_data"
    }
   ],
   "source": [
    "import matplotlib.cm as cm\n",
    "fig, ax = plt.subplots()\n",
    "ax.imshow(simulacion(decisiones, 50, 25, 10), cmap='Purples')\n",
    "\n",
    "for i in range(0,100):\n",
    "    sim = simulacion(decisiones, 50, 25, 10)\n",
    "    masked_data = np.ma.masked_where(sim < 0.9, sim)\n",
    "    ax.imshow(masked_data, cmap=cm.jet, interpolation = 'none')\n",
    "\n",
    "plt.gca().axes.get_yaxis().set_visible(False)\n",
    "\n",
    "plt.show()"
   ]
  },
  {
   "cell_type": "code",
   "execution_count": 146,
   "metadata": {},
   "outputs": [
    {
     "ename": "TypeError",
     "evalue": "simulacion() missing 1 required positional argument: 'color'",
     "output_type": "error",
     "traceback": [
      "\u001b[1;31m---------------------------------------------------------------------------\u001b[0m",
      "\u001b[1;31mTypeError\u001b[0m                                 Traceback (most recent call last)",
      "\u001b[1;32m<ipython-input-146-667b3532d907>\u001b[0m in \u001b[0;36m<module>\u001b[1;34m\u001b[0m\n\u001b[1;32m----> 1\u001b[1;33m \u001b[0msimulacion\u001b[0m\u001b[1;33m(\u001b[0m\u001b[0mdecisiones\u001b[0m\u001b[1;33m,\u001b[0m\u001b[1;36m50\u001b[0m\u001b[1;33m,\u001b[0m\u001b[1;36m25\u001b[0m\u001b[1;33m)\u001b[0m\u001b[1;33m\u001b[0m\u001b[1;33m\u001b[0m\u001b[0m\n\u001b[0m",
      "\u001b[1;31mTypeError\u001b[0m: simulacion() missing 1 required positional argument: 'color'"
     ]
    }
   ],
   "source": [
    "simulacion(decisiones,50,25)"
   ]
  },
  {
   "cell_type": "code",
   "execution_count": 190,
   "metadata": {},
   "outputs": [
    {
     "data": {
      "image/png": "[encoded data removed]",
      "text/plain": [
       "<Figure size 432x288 with 1 Axes>"
      ]
     },
     "metadata": {
      "needs_background": "light"
     },
     "output_type": "display_data"
    }
   ],
   "source": [
    "simulacion(decisiones,50,100)"
   ]
  },
  {
   "cell_type": "markdown",
   "metadata": {},
   "source": [
    "# Problema de optimización lineal\n",
    "\n",
    "El problema anteriormente planteado, puede ser visto como un problema de optimización lineal de la siguiente manera:\n",
    "\n",
    "Maximizar\n",
    "$$\\sum_{s \\in S}\\alpha(s)v(s)$$\n",
    "Sujeto a \n",
    "$$v(s) - \\sum_{j \\in S} \\lambda p(j|s,a)v(j) \\geq r(s,a) \\hspace{0.5cm} \\forall s=(x,y) \\in S, \\forall a \\in \\{u,d,l,r\\} $$\n",
    "$$\\iff v(s)(1- \\lambda p(s|s,a)) - \\sum_{j \\neq s} \\lambda p(j|s,a)v(j) \\geq r(s,a) \\hspace{0.5cm} \\forall s=(x,y) \\in S, \\forall a \\in \\{u,d,l,r\\} $$\n",
    "\n",
    "Las restricciones que debe cumplir la función $\\alpha$ son:\n",
    "$$\\alpha(s) > 0  \\hspace{0.5cm} \\text{ y } \\hspace{0.5cm} \\sum_{s\\in S} \\alpha(s) = 1$$\n",
    "\n",
    "Como la distribución de los estados en la cuadrícula es uniforme, utilizaremos $\\alpha(s) = \\frac{1}{|S|}$ para todo estado $s$, es decir\n",
    "$$\\alpha(s) = \\frac{1}{40000}$$\n",
    "Este problema se resolverá con el algoritmo Simplex."
   ]
  },
  {
   "cell_type": "code",
   "execution_count": 16,
   "metadata": {},
   "outputs": [],
   "source": [
    "lamb = 0.85\n",
    "obj = 1/40000 * np.ones(40000)\n",
    "\n",
    "#Primero agrego el lado izquierdo de las \n",
    "#desigualdades con acción up para todo estado s.\n",
    "d = np.zeros(40000)\n",
    "(Pd, rd) = calculo_Pdn_y_rdn(d, lamb)\n",
    "lhs_ineq = csr_matrix( Pd )\n",
    "\n",
    "for i in range(1,4):\n",
    "    d = np.full(40000, i)\n",
    "    (Pd, rd) = calculo_Pdn_y_rdn(d, lamb) \n",
    "    conv = csr_matrix(Pd)\n",
    "    lhs_ineq = scipy.sparse.vstack( (lhs_ineq, conv) )\n",
    "\n",
    "rhs_ineq = np.zeros(160000)\n",
    "for a in range(0,4):\n",
    "    for i in range(0,200):\n",
    "        for j in range(0,200):\n",
    "            rhs_ineq[ a*40000 + i*200 +j ] = recompensas[i,j,a]\n",
    "\n",
    "opt = scipy.optimize.linprog(c=obj, A_ub=lhs_ineq, b_ub=rhs_ineq, bounds = (-502,1),options={'sparse': True} )"
   ]
  },
  {
   "cell_type": "code",
   "execution_count": 24,
   "metadata": {},
   "outputs": [
    {
     "name": "stdout",
     "output_type": "stream",
     "text": [
      "     con: array([], dtype=float64)\n",
      "     fun: -10000.124997560819\n",
      " message: 'Optimization terminated successfully.'\n",
      "     nit: 13\n",
      "   slack: array([1281.92506818, 1282.62729422, 1283.32724711, ..., 1441.65293584,\n",
      "       1440.95445157, 1440.60302685])\n",
      "  status: 0\n",
      " success: True\n",
      "       x: array([-9999.99998624, -9999.99995506, -9999.99997926, ...,\n",
      "       -9999.99997881, -9999.99997834, -9999.99997644])\n"
     ]
    },
    {
     "data": {
      "image/png": "[encoded data removed]",
      "text/plain": [
       "<Figure size 432x288 with 2 Axes>"
      ]
     },
     "metadata": {
      "needs_background": "light"
     },
     "output_type": "display_data"
    },
    {
     "name": "stdout",
     "output_type": "stream",
     "text": [
      "1586.4497892\n"
     ]
    }
   ],
   "source": [
    "\n",
    "obj = 1/(2*39997) * np.ones(40000)\n",
    "\n",
    "obj[50*200 + 50]=1/4\n",
    "obj[50*200 + 51]=1/4\n",
    "\n",
    "\n",
    "\n",
    "opt = scipy.optimize.linprog(c=obj, A_ub=lhs_ineq, b_ub=rhs_ineq, bounds = (-10000,2),options={'sparse': True} )\n",
    "print(opt)\n",
    "vn = opt.x\n",
    "\n",
    "dn = np.zeros(40000)\n",
    "\n",
    "#Calculamos política óptima\n",
    "#Iteramos sobre todos los estados posibles \n",
    "for i in range(0,200):\n",
    "    for j in range(0,200):\n",
    "        val = np.zeros(4)\n",
    "        #Itero sobre las posibles acciones\n",
    "        for a in range(0,4):\n",
    "            val[a] = recompensas[i,j,a] + np.dot( Psa(i,j,a,lamb) , vn )\n",
    "        dn[i*200+j] = np.argmax(val)\n",
    "\n",
    "visualizarD( dn )\n",
    "\n",
    "end = timer()\n",
    "print(end - start)"
   ]
  },
  {
   "cell_type": "code",
   "execution_count": 25,
   "metadata": {},
   "outputs": [
    {
     "name": "stdout",
     "output_type": "stream",
     "text": [
      "     con: array([], dtype=float64)\n",
      "     fun: -9999.999916892793\n",
      " message: 'Optimization terminated successfully.'\n",
      "     nit: 14\n",
      "   slack: array([1281.92513466, 1282.62731675, 1283.32724707, ..., 1441.65291681,\n",
      "       1440.95439454, 1440.60303038])\n",
      "  status: 0\n",
      " success: True\n",
      "       x: array([-9999.99999998, -9999.99990922, -9999.99990639, ...,\n",
      "       -9999.99988527, -9999.99989656, -9999.99999998])\n"
     ]
    },
    {
     "data": {
      "image/png": "[encoded data removed]",
      "text/plain": [
       "<Figure size 432x288 with 2 Axes>"
      ]
     },
     "metadata": {
      "needs_background": "light"
     },
     "output_type": "display_data"
    },
    {
     "name": "stdout",
     "output_type": "stream",
     "text": [
      "559.6155486999996\n"
     ]
    }
   ],
   "source": [
    "start = timer()\n",
    "\n",
    "lamb = 0.85\n",
    "\n",
    "obj = 3/(4*39998) * np.ones(40000)\n",
    "\n",
    "obj[199*200 + 199]=1/8\n",
    "obj[0]=1/8\n",
    "#obj = 3/() * np.ones(40000)\n",
    "\n",
    "#Primero agrego el lado izquierdo de las \n",
    "#desigualdades con acción up para todo estado s.\n",
    "d = np.zeros(40000)\n",
    "(Pd, rd) = calculo_Pdn_y_rdn(d, lamb)\n",
    "lhs_ineq = csr_matrix( Pd )\n",
    "\n",
    "for i in range(1,4):\n",
    "    d = np.full(40000, i)\n",
    "    (Pd, rd) = calculo_Pdn_y_rdn(d, lamb) \n",
    "    conv = csr_matrix(Pd)\n",
    "    lhs_ineq = scipy.sparse.vstack( (lhs_ineq, conv) )\n",
    "\n",
    "rhs_ineq = np.zeros(160000)\n",
    "for a in range(0,4):\n",
    "    for i in range(0,200):\n",
    "        for j in range(0,200):\n",
    "            rhs_ineq[ a*40000 + i*200 +j ] = recompensas[i,j,a]\n",
    "\n",
    "opt = scipy.optimize.linprog(c=obj, A_ub=lhs_ineq, b_ub=rhs_ineq, bounds = (-10000,2),options={'sparse': True} )\n",
    "print(opt)\n",
    "vn = opt.x\n",
    "\n",
    "dn = np.zeros(40000)\n",
    "\n",
    "#Calculamos política óptima\n",
    "#Iteramos sobre todos los estados posibles \n",
    "for i in range(0,200):\n",
    "    for j in range(0,200):\n",
    "        val = np.zeros(4)\n",
    "        #Itero sobre las posibles acciones\n",
    "        for a in range(0,4):\n",
    "            val[a] = recompensas[i,j,a] + np.dot( Psa(i,j,a,lamb) , vn )\n",
    "        dn[i*200+j] = np.argmax(val)\n",
    "\n",
    "visualizarD( dn )\n",
    "\n",
    "end = timer()\n",
    "print(end - start)\n"
   ]
  },
  {
   "cell_type": "markdown",
   "metadata": {},
   "source": [
    "# Sensibilidad de $\\lambda$\n",
    "\n",
    "Para estudiar la sensibilidad del $\\lambda$, se corrió el algoritmo de iteración por política para diferentes valores de $\\lambda$."
   ]
  },
  {
   "cell_type": "code",
   "execution_count": 128,
   "metadata": {},
   "outputs": [
    {
     "name": "stdout",
     "output_type": "stream",
     "text": [
      "1\n",
      "2\n",
      "3\n",
      "4\n",
      "5\n",
      "6\n",
      "7\n",
      "8\n",
      "9\n",
      "10\n",
      "11\n",
      "12\n",
      "13\n",
      "14\n",
      "15\n",
      "16\n",
      "17\n",
      "18\n",
      "19\n",
      "20\n",
      "21\n",
      "22\n",
      "23\n",
      "24\n",
      "25\n",
      "26\n",
      "[0. 0. 0. ... 2. 2. 2.]\n",
      "450.65143309999985\n",
      "[0. 0. 0. ... 2. 2. 2.]\n"
     ]
    }
   ],
   "source": [
    "start = timer()\n",
    "lamb = 0.99999\n",
    "#Acá se guardará d_n\n",
    "d0 = np.zeros(40000)\n",
    "#Acá se guardará d_n+1\n",
    "dn = np.zeros(40000)\n",
    "#Condición de parada\n",
    "parar = False\n",
    "iteraciones = 1\n",
    "\n",
    "while( parar == False ):\n",
    "    print(iteraciones)\n",
    "    dn = np.zeros(40000)\n",
    "    #Calculamos qué es P_dn y r_dn \n",
    "    (P_dn,r_dn) = calculo_Pdn_y_rdn(d0,lamb)\n",
    "    #Pasamos P_dn a una matriz csr pues es más rápida para hacer cálculos.\n",
    "    P_dn = csr_matrix(P_dn)                            \n",
    "    #Quiero resolver el sistema de ecuacones (P_dn)v = r_dn.\n",
    "    v_n = scipy.sparse.linalg.spsolve(P_dn,r_dn)\n",
    "\n",
    "    #Cálculo de d_n+1\n",
    "    #Iteramos sobre todos los estados posibles \n",
    "    for i in range(0,200):\n",
    "        for j in range(0,200):\n",
    "            val = np.zeros(4)\n",
    "            #Itero sobre las posibles acciones\n",
    "            for a in range(0,4):\n",
    "                val[a] = recompensas[i,j,a] + np.dot( Psa(i,j,a,lamb) , v_n )\n",
    "            valorMaximo = np.max(val)\n",
    "            if( val[ int(d0[i*200+j]) ] == valorMaximo ):\n",
    "                dn[i*200+j] = d0[i*200+j] \n",
    "            else:\n",
    "                dn[i*200+j] = np.argmax(val)\n",
    "    #Condición de parada:\n",
    "    parar = (dn==d0).all()\n",
    "    d0 = dn\n",
    "    iteraciones += 1\n",
    "    #Fin del ciclo.\n",
    "print(dn)           \n",
    "    \n",
    "end = timer()\n",
    "print(end - start) \n",
    "\n",
    "print(dn)\n",
    " \n"
   ]
  },
  {
   "cell_type": "code",
   "execution_count": 130,
   "metadata": {
    "scrolled": true
   },
   "outputs": [
    {
     "name": "stdout",
     "output_type": "stream",
     "text": [
      "lambda =  0.99999\n"
     ]
    },
    {
     "data": {
      "image/png": "[encoded data removed]",
      "text/plain": [
       "<Figure size 432x288 with 2 Axes>"
      ]
     },
     "metadata": {
      "needs_background": "light"
     },
     "output_type": "display_data"
    },
    {
     "data": {
      "image/png": "[encoded data removed]",
      "text/plain": [
       "<Figure size 432x288 with 1 Axes>"
      ]
     },
     "metadata": {
      "needs_background": "light"
     },
     "output_type": "display_data"
    }
   ],
   "source": [
    "print(\"lambda = \", lamb)\n",
    "\n",
    "visualizarD(dn)\n",
    "decisiones = np.zeros((200,200))\n",
    "\n",
    "for i in range(0,200):\n",
    "    for j in range(0,200):           \n",
    "            decisiones[i,j] = dn[i*200+j]\n",
    "\n",
    "simulacion(decisiones,50,25) \n",
    "\n",
    "#simulacion(decisiones,50,100)"
   ]
  },
  {
   "cell_type": "markdown",
   "metadata": {},
   "source": [
    "### Sensibilidad de $\\lambda$"
   ]
  },
  {
   "cell_type": "code",
   "execution_count": 124,
   "metadata": {},
   "outputs": [
    {
     "data": {
      "image/png": "[encoded data removed]",
      "text/plain": [
       "<Figure size 432x288 with 1 Axes>"
      ]
     },
     "metadata": {
      "needs_background": "light"
     },
     "output_type": "display_data"
    }
   ],
   "source": [
    "plt.xlabel('Lambda')\n",
    "plt.ylabel('Número iteraciones')\n",
    "plt.title('Lambda vs Iteraciones para convergencia')\n",
    "plt.plot([0.5,0.7,0.8,0.86,0.88,0.9,0.95,0.99,0.995], [8,8,8,9,10,10,14,23,31], 'r--')\n",
    "plt.axis([0.4, 1, 7.5, 32])\n",
    "plt.show()"
   ]
  },
  {
   "cell_type": "code",
   "execution_count": 125,
   "metadata": {},
   "outputs": [
    {
     "data": {
      "image/png": "[encoded data removed]",
      "text/plain": [
       "<Figure size 432x288 with 1 Axes>"
      ]
     },
     "metadata": {
      "needs_background": "light"
     },
     "output_type": "display_data"
    }
   ],
   "source": [
    "plt.xlabel('Lambda')\n",
    "plt.ylabel('Tiempo')\n",
    "plt.title('Lambda vs Tiempo de convergencia')\n",
    "plt.plot([0.5,0.7,0.8,0.86,0.88,0.9,0.95,0.99,0.995], [126.16,126.70,143.37,160.60,171.48,170.18,212.99,402.47,508.49], 'r--')\n",
    "plt.axis([0.4, 1, 110, 510])\n",
    "plt.show()"
   ]
  },
  {
   "cell_type": "code",
   "execution_count": null,
   "metadata": {},
   "outputs": [],
   "source": []
  },
  {
   "cell_type": "code",
   "execution_count": null,
   "metadata": {},
   "outputs": [],
   "source": [
    "recompensas[0]"
   ]
  },
  {
   "cell_type": "code",
   "execution_count": null,
   "metadata": {},
   "outputs": [],
   "source": []
  }
 ],
 "metadata": {
  "kernelspec": {
   "display_name": "Python 3",
   "language": "python",
   "name": "python3"
  },
  "language_info": {
   "codemirror_mode": {
    "name": "ipython",
    "version": 3
   },
   "file_extension": ".py",
   "mimetype": "text/x-python",
   "name": "python",
   "nbconvert_exporter": "python",
   "pygments_lexer": "ipython3",
   "version": "3.8.5"
  }
 },
 "nbformat": 4,
 "nbformat_minor": 4
}
